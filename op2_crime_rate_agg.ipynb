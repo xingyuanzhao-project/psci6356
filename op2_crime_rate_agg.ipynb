{
 "cells": [
  {
   "cell_type": "code",
   "execution_count": 3,
   "id": "ae002290",
   "metadata": {},
   "outputs": [],
   "source": [
    "import pandas as pd\n",
    "import numpy as np\n",
    "import matplotlib.pyplot as plt\n",
    "import seaborn as sns\n",
    "from pathlib import Path\n",
    "import glob\n",
    "from tqdm.auto import tqdm\n"
   ]
  },
  {
   "cell_type": "code",
   "execution_count": null,
   "id": "d32bd29e",
   "metadata": {},
   "outputs": [],
   "source": [
    "list_path_csv = glob.glob('./data/crime_raw/*.csv')\n",
    "list_df_crime = [pd.read_csv(path_csv) for path_csv in list_path_csv]\n"
   ]
  },
  {
   "cell_type": "code",
   "execution_count": 5,
   "id": "1f333aec",
   "metadata": {},
   "outputs": [
    {
     "name": "stdout",
     "output_type": "stream",
     "text": [
      "Sample file: ./data/crime/Aggravated Assault Reported by Population_10-15-2025 (26).csv\n",
      "                series  10-2015  11-2015  12-2015  01-2016  02-2016  03-2016  \\\n",
      "0             Missouri     1798     1813     1637     1691     1428     1786   \n",
      "1  Missouri Clearances      939      951      857      902      811      954   \n",
      "\n",
      "   04-2016  05-2016  06-2016  ...  01-2025  02-2025  03-2025  04-2025  \\\n",
      "0     1866     1945     2074  ...     1293     1158     1674     1801   \n",
      "1      879     1006      963  ...      612      604      771      758   \n",
      "\n",
      "   05-2025  06-2025  07-2025  08-2025  09-2025  10-2025  \n",
      "0     1925     1815     1719     1376       93      NaN  \n",
      "1      793      746      758      572       53      NaN  \n",
      "\n",
      "[2 rows x 122 columns]\n"
     ]
    }
   ],
   "source": [
    "# Examine sample structure from already loaded data\n",
    "df_sample = list_df_crime[0]\n",
    "print(f\"Sample file: {list_path_csv[0]}\")\n",
    "print(df_sample.head())\n"
   ]
  },
  {
   "cell_type": "code",
   "execution_count": 6,
   "id": "a67a1558",
   "metadata": {},
   "outputs": [
    {
     "data": {
      "application/vnd.jupyter.widget-view+json": {
       "model_id": "69a2fa30f2b04b4087721f605328cff0",
       "version_major": 2,
       "version_minor": 0
      },
      "text/plain": [
       "  0%|          | 0/57 [00:00<?, ?it/s]"
      ]
     },
     "metadata": {},
     "output_type": "display_data"
    }
   ],
   "source": [
    "list_df_agg = []\n",
    "\n",
    "with tqdm(list_path_csv, leave=True, position=0) as pbar:\n",
    "    for path_csv in pbar:\n",
    "        # Extract crime type from filename\n",
    "        str_filename = Path(path_csv).stem\n",
    "        str_crime = str_filename.split('_')[0]\n",
    "        \n",
    "        # Read CSV\n",
    "        df_current = pd.read_csv(path_csv)\n",
    "        \n",
    "        # Separate state rows and clearance rows\n",
    "        df_states = df_current[~df_current['series'].str.contains('Clearances', na=False)].copy()\n",
    "        df_clearances = df_current[df_current['series'].str.contains('Clearances', na=False)].copy()\n",
    "        \n",
    "        # Clean clearances state names\n",
    "        df_clearances['series'] = df_clearances['series'].str.replace(' Clearances', '')\n",
    "        \n",
    "        # Melt states data\n",
    "        df_states_long = df_states.melt(id_vars=['series'], var_name='date', value_name='count')\n",
    "        df_states_long.rename(columns={'series': 'state'}, inplace=True)\n",
    "        \n",
    "        # Melt clearances data\n",
    "        df_clearances_long = df_clearances.melt(id_vars=['series'], var_name='date', value_name='Clearances')\n",
    "        df_clearances_long.rename(columns={'series': 'state'}, inplace=True)\n",
    "        \n",
    "        # Merge states and clearances\n",
    "        df_merged = pd.merge(df_states_long, df_clearances_long, on=['state', 'date'], how='left')\n",
    "        \n",
    "        # Add crime column\n",
    "        df_merged['crime'] = str_crime\n",
    "        \n",
    "        # Reorder columns: series (date), state, crime, Clearances\n",
    "        df_merged = df_merged[['date', 'state', 'crime', 'count', 'Clearances']]\n",
    "        df_merged.rename(columns={'date': 'series'}, inplace=True)\n",
    "        \n",
    "        list_df_agg.append(df_merged)\n",
    "\n",
    "# Concatenate all dataframes\n",
    "df_crime_agg = pd.concat(list_df_agg, ignore_index=True)\n"
   ]
  },
  {
   "cell_type": "code",
   "execution_count": 9,
   "id": "0bbe46e2",
   "metadata": {},
   "outputs": [],
   "source": [
    "df_crime_agg.head(10)\n",
    "df_crime_agg.to_csv(\"data/crime/crime_aggregated.csv\", index=False)\n"
   ]
  },
  {
   "cell_type": "code",
   "execution_count": null,
   "id": "f8a1d69c",
   "metadata": {},
   "outputs": [],
   "source": [
    "\n"
   ]
  }
 ],
 "metadata": {
  "kernelspec": {
   "display_name": ".venv",
   "language": "python",
   "name": "python3"
  },
  "language_info": {
   "codemirror_mode": {
    "name": "ipython",
    "version": 3
   },
   "file_extension": ".py",
   "mimetype": "text/x-python",
   "name": "python",
   "nbconvert_exporter": "python",
   "pygments_lexer": "ipython3",
   "version": "3.13.7"
  }
 },
 "nbformat": 4,
 "nbformat_minor": 5
}
